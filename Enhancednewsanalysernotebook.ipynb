{
 "cells": [
  {
   "cell_type": "code",
   "execution_count": 2,
   "id": "23554399-f7ee-4a9e-8ead-b453191c2116",
   "metadata": {},
   "outputs": [
    {
     "name": "stdin",
     "output_type": "stream",
     "text": [
      "Enter a forex or stock symbol:  nzdusd\n",
      "How many articles do you want to scan:  11\n"
     ]
    },
    {
     "name": "stdout",
     "output_type": "stream",
     "text": [
      "Top 8 articles for NZDUSD:\n"
     ]
    },
    {
     "ename": "TypeError",
     "evalue": "ChatBot.query() takes 1 positional argument but 2 were given",
     "output_type": "error",
     "traceback": [
      "\u001b[1;31m---------------------------------------------------------------------------\u001b[0m",
      "\u001b[1;31mTypeError\u001b[0m                                 Traceback (most recent call last)",
      "Cell \u001b[1;32mIn[2], line 54\u001b[0m\n\u001b[0;32m     52\u001b[0m content \u001b[38;5;241m=\u001b[39m scrape_article_content(article[\u001b[38;5;124m'\u001b[39m\u001b[38;5;124mlink\u001b[39m\u001b[38;5;124m'\u001b[39m])\n\u001b[0;32m     53\u001b[0m msg \u001b[38;5;241m=\u001b[39m \u001b[38;5;124mf\u001b[39m\u001b[38;5;124m\"\"\"\u001b[39m\u001b[38;5;124mIm going to share with you a news article about \u001b[39m\u001b[38;5;132;01m{\u001b[39;00mstock_symbol\u001b[38;5;132;01m}\u001b[39;00m\u001b[38;5;124m, ONLY respond with a rating of n/100 of how good the news are concerning the \u001b[39m\u001b[38;5;132;01m{\u001b[39;00mstock_symbol\u001b[38;5;132;01m}\u001b[39;00m\u001b[38;5;124m (e.g if you gave 95/100 it means the stock will go up) OR if you there isnt any news then give it 50/100, here\u001b[39m\u001b[38;5;124m'\u001b[39m\u001b[38;5;124ms the article: \u001b[39m\u001b[38;5;132;01m{\u001b[39;00mcontent\u001b[38;5;132;01m}\u001b[39;00m\u001b[38;5;124m. PLEASE ONLY RESPOND WITH A NUMBER NOTHING ELSE!!!!!!\u001b[39m\u001b[38;5;124m\"\"\"\u001b[39m\n\u001b[1;32m---> 54\u001b[0m ai_response \u001b[38;5;241m=\u001b[39m ask_hugchat(msg)\n\u001b[0;32m     55\u001b[0m splitted \u001b[38;5;241m=\u001b[39m ai_response\u001b[38;5;241m.\u001b[39msplit(\u001b[38;5;124m'\u001b[39m\u001b[38;5;124m/100\u001b[39m\u001b[38;5;124m'\u001b[39m)\n\u001b[0;32m     56\u001b[0m \u001b[38;5;28;01mtry\u001b[39;00m:\n",
      "Cell \u001b[1;32mIn[2], line 15\u001b[0m, in \u001b[0;36mask_hugchat\u001b[1;34m(text)\u001b[0m\n\u001b[0;32m     13\u001b[0m sign\u001b[38;5;241m.\u001b[39msaveCookiesToDir(cookie_path_dir)\n\u001b[0;32m     14\u001b[0m chatbot \u001b[38;5;241m=\u001b[39m hugchat\u001b[38;5;241m.\u001b[39mChatBot(cookies\u001b[38;5;241m=\u001b[39mcookies\u001b[38;5;241m.\u001b[39mget_dict())\n\u001b[1;32m---> 15\u001b[0m response \u001b[38;5;241m=\u001b[39m chatbot\u001b[38;5;241m.\u001b[39mquery(text)\n\u001b[0;32m     16\u001b[0m \u001b[38;5;28;01mreturn\u001b[39;00m \u001b[38;5;28mstr\u001b[39m(response)\n",
      "\u001b[1;31mTypeError\u001b[0m: ChatBot.query() takes 1 positional argument but 2 were given"
     ]
    }
   ],
   "source": [
    "from bs4 import BeautifulSoup\n",
    "import requests\n",
    "from hugchat import hugchat\n",
    "from hugchat.login import Login\n",
    "import yfinance as yf\n",
    "\n",
    "def ask_hugchat(text):\n",
    "    email= 'yoyobechara11@gmail.com'\n",
    "    passwd = 'Omggamer,3'\n",
    "    sign = Login(email, passwd)\n",
    "    cookies = sign.login()\n",
    "    cookie_path_dir = \"./cookies_snapshot\"\n",
    "    sign.saveCookiesToDir(cookie_path_dir)\n",
    "    chatbot = hugchat.ChatBot(cookies=cookies.get_dict())\n",
    "    response = chatbot.query(text)\n",
    "    return str(response)\n",
    "    \n",
    "def get_articles(symbol, num_articles=5):\n",
    "    articles = []\n",
    "    ticker = yf.Ticker(symbol)\n",
    "    data = ticker.news\n",
    "    for iteration in data:\n",
    "        articles.append({'title': iteration['title'], 'link': iteration['link']})\n",
    "    try:\n",
    "        articles_list = articles[:num_articles]\n",
    "    except:\n",
    "        print(f\"The number of articles you requested is too large, currently the maximum number of articles i can get is {len(articles)}\")\n",
    "    return articles_list\n",
    "def calc_avg_list(li):\n",
    "    vals_without_50 = []\n",
    "    for i in range (len(li)):\n",
    "        if li[i] == 50:\n",
    "            continue\n",
    "        vals_without_50.append(li[i])\n",
    "    sum_of_nums = 0\n",
    "    for i in range(len(vals_without_50)):\n",
    "        sum_of_nums+=vals_without_50[i]\n",
    "    return sum_of_nums//len(vals_without_50)\n",
    "def scrape_article_content(url):\n",
    "    headers = {'User-Agent': 'Mozilla/5.0 (Windows NT 10.0; Win64; x64) AppleWebKit/537.36 (KHTML, like Gecko) Chrome/58.0.3029.110 Safari/537.3'}\n",
    "    response = requests.get(url, headers=headers)\n",
    "    soup = BeautifulSoup(response.text, 'html.parser')\n",
    "    return soup.text\n",
    "\n",
    "if __name__ == \"__main__\":\n",
    "    stock_symbol = input(\"Enter a forex or stock symbol: \").upper()\n",
    "    number_of_articles = int(input(\"How many articles do you want to scan: \"))\n",
    "    articles = get_articles(stock_symbol, num_articles=number_of_articles)\n",
    "    ratings_list = []\n",
    "    print(f\"Top {len(articles)} articles for {stock_symbol}:\")\n",
    "    for idx, article in enumerate(articles, start=1):\n",
    "        content = scrape_article_content(article['link'])\n",
    "        msg = f\"\"\"Im going to share with you a news article about {stock_symbol}, ONLY respond with a rating of n/100 of how good the news are concerning the {stock_symbol} (e.g if you gave 95/100 it means the stock will go up) OR if you there isnt any news then give it 50/100, here's the article: {content}. PLEASE ONLY RESPOND WITH A NUMBER NOTHING ELSE!!!!!!\"\"\"\n",
    "        ai_response = ask_hugchat(msg)\n",
    "        splitted = ai_response.split('/100')\n",
    "        try:\n",
    "            rating = int(splitted[0][-3:])\n",
    "            ratings_list.append(rating)\n",
    "            newsometer = f\"{rating}/100\"\n",
    "            print(newsometer +' '+ article['link'])\n",
    "        except:\n",
    "            pass\n",
    "    avg_score = calc_avg_list(ratings_list)\n",
    "    print(f\"The average score for {stock_symbol} is {avg_score}/100\")"
   ]
  },
  {
   "cell_type": "code",
   "execution_count": null,
   "id": "196c42a0-d6f9-47a0-974b-a58cff35cb6a",
   "metadata": {},
   "outputs": [],
   "source": []
  }
 ],
 "metadata": {
  "kernelspec": {
   "display_name": "Python 3 (ipykernel)",
   "language": "python",
   "name": "python3"
  },
  "language_info": {
   "codemirror_mode": {
    "name": "ipython",
    "version": 3
   },
   "file_extension": ".py",
   "mimetype": "text/x-python",
   "name": "python",
   "nbconvert_exporter": "python",
   "pygments_lexer": "ipython3",
   "version": "3.11.7"
  }
 },
 "nbformat": 4,
 "nbformat_minor": 5
}
